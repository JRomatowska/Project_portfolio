{
 "cells": [
  {
   "cell_type": "markdown",
   "id": "be3c91ef",
   "metadata": {},
   "source": [
    "# Validation of different classification models based on Titanic survival dataset"
   ]
  },
  {
   "cell_type": "code",
   "execution_count": 1,
   "id": "2e2fb0bf",
   "metadata": {},
   "outputs": [
    {
     "name": "stderr",
     "output_type": "stream",
     "text": [
      "C:\\Users\\DELL\\anaconda3\\lib\\site-packages\\scipy\\__init__.py:146: UserWarning: A NumPy version >=1.16.5 and <1.23.0 is required for this version of SciPy (detected version 1.24.3\n",
      "  warnings.warn(f\"A NumPy version >={np_minversion} and <{np_maxversion}\"\n"
     ]
    }
   ],
   "source": [
    "import pandas as pd\n",
    "import numpy as np\n",
    "from sklearn.model_selection import train_test_split \n",
    "import matplotlib.pyplot as plt\n",
    "from sklearn import svm\n",
    "from sklearn.metrics import accuracy_score\n",
    "from sklearn.tree import DecisionTreeClassifier\n",
    "from sklearn.ensemble import RandomForestClassifier\n",
    "from sklearn import tree\n",
    "from sklearn import metrics\n",
    "from sklearn.model_selection import KFold, cross_val_score, StratifiedKFold\n",
    "from sklearn.pipeline import make_pipeline\n",
    "from sklearn.preprocessing import StandardScaler\n",
    "from sklearn.dummy import DummyClassifier\n",
    "\n",
    "from sklearn.metrics import classification_report, f1_score, r2_score\n",
    "from sklearn.datasets import make_classification\n",
    "from sklearn.metrics import confusion_matrix, ConfusionMatrixDisplay"
   ]
  },
  {
   "cell_type": "code",
   "execution_count": 2,
   "id": "3fd3f4a7",
   "metadata": {},
   "outputs": [
    {
     "data": {
      "text/html": [
       "<div>\n",
       "<style scoped>\n",
       "    .dataframe tbody tr th:only-of-type {\n",
       "        vertical-align: middle;\n",
       "    }\n",
       "\n",
       "    .dataframe tbody tr th {\n",
       "        vertical-align: top;\n",
       "    }\n",
       "\n",
       "    .dataframe thead th {\n",
       "        text-align: right;\n",
       "    }\n",
       "</style>\n",
       "<table border=\"1\" class=\"dataframe\">\n",
       "  <thead>\n",
       "    <tr style=\"text-align: right;\">\n",
       "      <th></th>\n",
       "      <th>Unnamed: 0</th>\n",
       "      <th>survived</th>\n",
       "      <th>sex</th>\n",
       "      <th>age</th>\n",
       "      <th>passengerClass</th>\n",
       "    </tr>\n",
       "  </thead>\n",
       "  <tbody>\n",
       "    <tr>\n",
       "      <th>0</th>\n",
       "      <td>Allen, Miss. Elisabeth Walton</td>\n",
       "      <td>yes</td>\n",
       "      <td>female</td>\n",
       "      <td>29.0000</td>\n",
       "      <td>1st</td>\n",
       "    </tr>\n",
       "    <tr>\n",
       "      <th>1</th>\n",
       "      <td>Allison, Master. Hudson Trevor</td>\n",
       "      <td>yes</td>\n",
       "      <td>male</td>\n",
       "      <td>0.9167</td>\n",
       "      <td>1st</td>\n",
       "    </tr>\n",
       "    <tr>\n",
       "      <th>2</th>\n",
       "      <td>Allison, Miss. Helen Loraine</td>\n",
       "      <td>no</td>\n",
       "      <td>female</td>\n",
       "      <td>2.0000</td>\n",
       "      <td>1st</td>\n",
       "    </tr>\n",
       "    <tr>\n",
       "      <th>3</th>\n",
       "      <td>Allison, Mr. Hudson Joshua Crei</td>\n",
       "      <td>no</td>\n",
       "      <td>male</td>\n",
       "      <td>30.0000</td>\n",
       "      <td>1st</td>\n",
       "    </tr>\n",
       "    <tr>\n",
       "      <th>4</th>\n",
       "      <td>Allison, Mrs. Hudson J C (Bessi</td>\n",
       "      <td>no</td>\n",
       "      <td>female</td>\n",
       "      <td>25.0000</td>\n",
       "      <td>1st</td>\n",
       "    </tr>\n",
       "  </tbody>\n",
       "</table>\n",
       "</div>"
      ],
      "text/plain": [
       "                        Unnamed: 0 survived     sex      age passengerClass\n",
       "0    Allen, Miss. Elisabeth Walton      yes  female  29.0000            1st\n",
       "1   Allison, Master. Hudson Trevor      yes    male   0.9167            1st\n",
       "2     Allison, Miss. Helen Loraine       no  female   2.0000            1st\n",
       "3  Allison, Mr. Hudson Joshua Crei       no    male  30.0000            1st\n",
       "4  Allison, Mrs. Hudson J C (Bessi       no  female  25.0000            1st"
      ]
     },
     "execution_count": 2,
     "metadata": {},
     "output_type": "execute_result"
    }
   ],
   "source": [
    "titanic = pd.read_csv(r'TitanicSurvival.csv')\n",
    "titanic.head()"
   ]
  },
  {
   "cell_type": "code",
   "execution_count": 3,
   "id": "f4b1ad0a",
   "metadata": {},
   "outputs": [],
   "source": [
    "titanic.columns = [\"Name\", \"Survived\", \"Sex\", \"Age\", \"Class\"]"
   ]
  },
  {
   "cell_type": "code",
   "execution_count": 4,
   "id": "75752eee",
   "metadata": {},
   "outputs": [],
   "source": [
    "titanic.loc[titanic[\"Sex\"]==\"male\", \"Sex\"] = 0\n",
    "titanic.loc[titanic[\"Sex\"]==\"female\", \"Sex\"] = 1\n",
    "\n",
    "titanic.loc[titanic[\"Survived\"]==\"yes\", \"Survived\"] = 1\n",
    "titanic.loc[titanic[\"Survived\"]==\"no\", \"Survived\"] = 0\n",
    "\n",
    "titanic.loc[titanic[\"Class\"]==\"1st\", \"Class\"] = 1\n",
    "titanic.loc[titanic[\"Class\"]==\"2nd\", \"Class\"] = 2\n",
    "titanic.loc[titanic[\"Class\"]==\"3rd\", \"Class\"] = 3"
   ]
  },
  {
   "cell_type": "code",
   "execution_count": 5,
   "id": "dfda1863",
   "metadata": {},
   "outputs": [],
   "source": [
    "titanic[[\"Class\", \"Sex\"]] = titanic[[\"Class\", \"Sex\"]].astype(object) \n",
    "titanic.loc[:,\"Survived\"] = titanic.loc[:,\"Survived\"].astype(int)"
   ]
  },
  {
   "cell_type": "code",
   "execution_count": 6,
   "id": "66f35727",
   "metadata": {},
   "outputs": [
    {
     "data": {
      "text/plain": [
       "Name         object\n",
       "Survived      int32\n",
       "Sex          object\n",
       "Age         float64\n",
       "Class        object\n",
       "dtype: object"
      ]
     },
     "execution_count": 6,
     "metadata": {},
     "output_type": "execute_result"
    }
   ],
   "source": [
    "titanic.dtypes"
   ]
  },
  {
   "cell_type": "code",
   "execution_count": 7,
   "id": "1cdb8bbd",
   "metadata": {},
   "outputs": [
    {
     "data": {
      "text/html": [
       "<div>\n",
       "<style scoped>\n",
       "    .dataframe tbody tr th:only-of-type {\n",
       "        vertical-align: middle;\n",
       "    }\n",
       "\n",
       "    .dataframe tbody tr th {\n",
       "        vertical-align: top;\n",
       "    }\n",
       "\n",
       "    .dataframe thead th {\n",
       "        text-align: right;\n",
       "    }\n",
       "</style>\n",
       "<table border=\"1\" class=\"dataframe\">\n",
       "  <thead>\n",
       "    <tr style=\"text-align: right;\">\n",
       "      <th></th>\n",
       "      <th>Name</th>\n",
       "      <th>Survived</th>\n",
       "      <th>Sex</th>\n",
       "      <th>Age</th>\n",
       "      <th>Class</th>\n",
       "    </tr>\n",
       "  </thead>\n",
       "  <tbody>\n",
       "    <tr>\n",
       "      <th>15</th>\n",
       "      <td>Baumann, Mr. John D</td>\n",
       "      <td>0</td>\n",
       "      <td>0</td>\n",
       "      <td>NaN</td>\n",
       "      <td>1</td>\n",
       "    </tr>\n",
       "    <tr>\n",
       "      <th>37</th>\n",
       "      <td>Bradley, Mr. George (George Ar</td>\n",
       "      <td>1</td>\n",
       "      <td>0</td>\n",
       "      <td>NaN</td>\n",
       "      <td>1</td>\n",
       "    </tr>\n",
       "    <tr>\n",
       "      <th>40</th>\n",
       "      <td>Brewe, Dr. Arthur Jackson</td>\n",
       "      <td>0</td>\n",
       "      <td>0</td>\n",
       "      <td>NaN</td>\n",
       "      <td>1</td>\n",
       "    </tr>\n",
       "    <tr>\n",
       "      <th>46</th>\n",
       "      <td>Cairns, Mr. Alexander</td>\n",
       "      <td>0</td>\n",
       "      <td>0</td>\n",
       "      <td>NaN</td>\n",
       "      <td>1</td>\n",
       "    </tr>\n",
       "    <tr>\n",
       "      <th>59</th>\n",
       "      <td>Cassebeer, Mrs. Henry Arthur Jr</td>\n",
       "      <td>1</td>\n",
       "      <td>1</td>\n",
       "      <td>NaN</td>\n",
       "      <td>1</td>\n",
       "    </tr>\n",
       "    <tr>\n",
       "      <th>...</th>\n",
       "      <td>...</td>\n",
       "      <td>...</td>\n",
       "      <td>...</td>\n",
       "      <td>...</td>\n",
       "      <td>...</td>\n",
       "    </tr>\n",
       "    <tr>\n",
       "      <th>1293</th>\n",
       "      <td>Williams, Mr. Howard Hugh Harr</td>\n",
       "      <td>0</td>\n",
       "      <td>0</td>\n",
       "      <td>NaN</td>\n",
       "      <td>3</td>\n",
       "    </tr>\n",
       "    <tr>\n",
       "      <th>1297</th>\n",
       "      <td>Wiseman, Mr. Phillippe</td>\n",
       "      <td>0</td>\n",
       "      <td>0</td>\n",
       "      <td>NaN</td>\n",
       "      <td>3</td>\n",
       "    </tr>\n",
       "    <tr>\n",
       "      <th>1302</th>\n",
       "      <td>Yousif, Mr. Wazli</td>\n",
       "      <td>0</td>\n",
       "      <td>0</td>\n",
       "      <td>NaN</td>\n",
       "      <td>3</td>\n",
       "    </tr>\n",
       "    <tr>\n",
       "      <th>1303</th>\n",
       "      <td>Yousseff, Mr. Gerious</td>\n",
       "      <td>0</td>\n",
       "      <td>0</td>\n",
       "      <td>NaN</td>\n",
       "      <td>3</td>\n",
       "    </tr>\n",
       "    <tr>\n",
       "      <th>1305</th>\n",
       "      <td>Zabour, Miss. Thamine</td>\n",
       "      <td>0</td>\n",
       "      <td>1</td>\n",
       "      <td>NaN</td>\n",
       "      <td>3</td>\n",
       "    </tr>\n",
       "  </tbody>\n",
       "</table>\n",
       "<p>263 rows × 5 columns</p>\n",
       "</div>"
      ],
      "text/plain": [
       "                                 Name  Survived Sex  Age Class\n",
       "15                Baumann, Mr. John D         0   0  NaN     1\n",
       "37     Bradley, Mr. George (George Ar         1   0  NaN     1\n",
       "40          Brewe, Dr. Arthur Jackson         0   0  NaN     1\n",
       "46              Cairns, Mr. Alexander         0   0  NaN     1\n",
       "59    Cassebeer, Mrs. Henry Arthur Jr         1   1  NaN     1\n",
       "...                               ...       ...  ..  ...   ...\n",
       "1293   Williams, Mr. Howard Hugh Harr         0   0  NaN     3\n",
       "1297           Wiseman, Mr. Phillippe         0   0  NaN     3\n",
       "1302                Yousif, Mr. Wazli         0   0  NaN     3\n",
       "1303            Yousseff, Mr. Gerious         0   0  NaN     3\n",
       "1305            Zabour, Miss. Thamine         0   1  NaN     3\n",
       "\n",
       "[263 rows x 5 columns]"
      ]
     },
     "execution_count": 7,
     "metadata": {},
     "output_type": "execute_result"
    }
   ],
   "source": [
    "titanic.loc[titanic[\"Age\"].isna()]"
   ]
  },
  {
   "cell_type": "code",
   "execution_count": 8,
   "id": "6f7858ea",
   "metadata": {},
   "outputs": [],
   "source": [
    "titanic = titanic.dropna()"
   ]
  },
  {
   "cell_type": "code",
   "execution_count": 9,
   "id": "c171c33a",
   "metadata": {},
   "outputs": [],
   "source": [
    "y = titanic[\"Survived\"]\n",
    "X = titanic.drop([\"Survived\", \"Name\"], axis = 1) #dropping name because it is not a valid feature for the models"
   ]
  },
  {
   "cell_type": "code",
   "execution_count": 10,
   "id": "bba7b973",
   "metadata": {},
   "outputs": [],
   "source": [
    "X_train, X_test, y_train, y_test = train_test_split(X, y, test_size = 0.2, random_state = 42)"
   ]
  },
  {
   "cell_type": "code",
   "execution_count": 34,
   "id": "8f381af7",
   "metadata": {},
   "outputs": [],
   "source": [
    "survived = titanic[titanic.Survived==1].shape[0]\n",
    "n_survived = titanic[titanic.Survived==0].shape[0]"
   ]
  },
  {
   "cell_type": "code",
   "execution_count": 36,
   "id": "1c501cec",
   "metadata": {},
   "outputs": [
    {
     "name": "stdout",
     "output_type": "stream",
     "text": [
      "Number of people that survived the Titanic catastrophe: 427 (40.82%)\n",
      "Number of people that did not survive the Titanic catastrophe: 619 (59.18%)\n"
     ]
    }
   ],
   "source": [
    "print(f'Number of people that survived the Titanic catastrophe: {survived} ({survived/(survived+n_survived)*100:.2F}%)')\n",
    "print(f'Number of people that did not survive the Titanic catastrophe: {n_survived} ({n_survived/(survived+n_survived)*100:.2F}%)')"
   ]
  },
  {
   "cell_type": "markdown",
   "id": "afcc2ce0",
   "metadata": {},
   "source": [
    "We can see that there is a slight class imbalance, therefore when validating the model it will be important to look at f1-score and not only the accuracy. "
   ]
  },
  {
   "cell_type": "markdown",
   "id": "51144273",
   "metadata": {},
   "source": [
    "## Creating the Random Forest model"
   ]
  },
  {
   "cell_type": "code",
   "execution_count": 23,
   "id": "3b74e34e",
   "metadata": {},
   "outputs": [
    {
     "name": "stdout",
     "output_type": "stream",
     "text": [
      "Accuracy of the Random Forest model: 72.38%\n"
     ]
    }
   ],
   "source": [
    "model_rf  = RandomForestClassifier(n_estimators = 100) \n",
    "model_rf.fit(X_train, y_train)\n",
    "accuracy = model_rf.score(X_test, y_test)\n",
    "print(f'Accuracy of the Random Forest model: {accuracy*100:.2f}%')"
   ]
  },
  {
   "cell_type": "markdown",
   "id": "ca931be3",
   "metadata": {},
   "source": [
    "## Model validation\n",
    "\n",
    "**1. K-fold cross-validation**"
   ]
  },
  {
   "cell_type": "code",
   "execution_count": 13,
   "id": "ecd3a3d7",
   "metadata": {},
   "outputs": [],
   "source": [
    "standardizer = StandardScaler()\n",
    "model_rf  = RandomForestClassifier(n_estimators = 100) \n",
    "pipeline = make_pipeline(standardizer, model_rf)"
   ]
  },
  {
   "cell_type": "code",
   "execution_count": 14,
   "id": "29fd2d7a",
   "metadata": {},
   "outputs": [],
   "source": [
    "kf = KFold(n_splits = 10, shuffle = True, random_state = 42)\n",
    "skf = StratifiedKFold(n_splits = 10, shuffle = True, random_state = 42)"
   ]
  },
  {
   "cell_type": "code",
   "execution_count": 16,
   "id": "77c945ec",
   "metadata": {},
   "outputs": [
    {
     "name": "stdout",
     "output_type": "stream",
     "text": [
      "Mean accuracy of the Random Forest model for k-fold validation: 80.26%\n"
     ]
    }
   ],
   "source": [
    "cv_results = cross_val_score(pipeline, \n",
    "                            X_train, \n",
    "                            y_train, \n",
    "                             cv = kf, \n",
    "                            scoring = 'accuracy', \n",
    "                            n_jobs = -1)\n",
    "print(f'Mean accuracy of the Random Forest model for k-fold validation: {cv_results.mean()*100:.2f}%') "
   ]
  },
  {
   "cell_type": "code",
   "execution_count": 17,
   "id": "8e3ef454",
   "metadata": {},
   "outputs": [
    {
     "name": "stdout",
     "output_type": "stream",
     "text": [
      "Mean accuracy of the Random Forest model for stratified k-fold validation: 80.02%\n"
     ]
    }
   ],
   "source": [
    "cv_results = cross_val_score(pipeline, \n",
    "                            X_train, \n",
    "                            y_train, \n",
    "                             cv = skf, \n",
    "                            scoring = 'accuracy', \n",
    "                            n_jobs = -1)\n",
    "print(f'Mean accuracy of the Random Forest model for stratified k-fold validation: {cv_results.mean()*100:.2f}%') "
   ]
  },
  {
   "cell_type": "markdown",
   "id": "2e6f0a8e",
   "metadata": {},
   "source": [
    "**2. Dummy validation**\n",
    "\n",
    "Methods: \n",
    "- `most_frequent` -- returns the most frequent class label\n",
    "- `stratified` -- the method randomly samples one-hot vectors from a multinomial distribution parametrized by the empirical class prior probabilities and returns the class label which got probability one in the one-hot vector\n",
    "- `uniform` -- generates predictions uniformly at random from the list of unique classes, i.e. each class has equal probability.\n",
    "- `constant` -- always predicts a constant label that is provided by the user\n",
    "- `prior` -- the predict method always returns the most frequent class label in the observed y argument passed to fit (like “most_frequent”). predict_proba always returns the empirical class distribution of y also known as the empirical class prior distribution."
   ]
  },
  {
   "cell_type": "code",
   "execution_count": 18,
   "id": "9a117f54",
   "metadata": {},
   "outputs": [
    {
     "name": "stdout",
     "output_type": "stream",
     "text": [
      "Accuracy of the dummy model for our data: 57.14%\n"
     ]
    }
   ],
   "source": [
    "dummy = DummyClassifier(strategy = 'most_frequent')\n",
    "dummy.fit(X_train, y_train)\n",
    "dummy_accuracy = dummy.score(X_test, y_test)\n",
    "print(f'Accuracy of the dummy model for our data: {dummy_accuracy*100:.2f}%') "
   ]
  },
  {
   "cell_type": "code",
   "execution_count": 19,
   "id": "066cf591",
   "metadata": {},
   "outputs": [
    {
     "name": "stdout",
     "output_type": "stream",
     "text": [
      "Accuracy of the dummy model for our data: 51.90%\n"
     ]
    }
   ],
   "source": [
    "dummy = DummyClassifier(strategy = 'stratified')\n",
    "dummy.fit(X_train, y_train)\n",
    "dummy_accuracy = dummy.score(X_test, y_test)\n",
    "print(f'Accuracy of the dummy model for our data: {dummy_accuracy*100:.2f}%') "
   ]
  },
  {
   "cell_type": "markdown",
   "id": "992e99b7",
   "metadata": {},
   "source": [
    "We want to compare the dummy classifier to our model. The dummy gives worse results (accuracies) therefore we can assume that our model is better than a dummy classifier. "
   ]
  },
  {
   "cell_type": "markdown",
   "id": "de6f292a",
   "metadata": {},
   "source": [
    "**3. Confusion matrix**"
   ]
  },
  {
   "cell_type": "code",
   "execution_count": 25,
   "id": "879935d0",
   "metadata": {},
   "outputs": [
    {
     "data": {
      "image/png": "[encoded data removed]",
      "text/plain": [
       "<Figure size 432x288 with 2 Axes>"
      ]
     },
     "metadata": {
      "needs_background": "light"
     },
     "output_type": "display_data"
    }
   ],
   "source": [
    "y_pred = model_rf.predict(X_test)\n",
    "cm = confusion_matrix(y_test, y_pred, labels = [0,1])\n",
    "disp = ConfusionMatrixDisplay(confusion_matrix = cm, display_labels=[0,1])\n",
    "disp.plot()\n",
    "plt.show()"
   ]
  },
  {
   "cell_type": "code",
   "execution_count": 26,
   "id": "a350359c",
   "metadata": {},
   "outputs": [
    {
     "name": "stdout",
     "output_type": "stream",
     "text": [
      "              precision    recall  f1-score   support\n",
      "\n",
      "           0       0.75      0.78      0.76       120\n",
      "           1       0.69      0.64      0.67        90\n",
      "\n",
      "    accuracy                           0.72       210\n",
      "   macro avg       0.72      0.71      0.72       210\n",
      "weighted avg       0.72      0.72      0.72       210\n",
      "\n"
     ]
    }
   ],
   "source": [
    "print(classification_report(y_test, y_pred))"
   ]
  },
  {
   "cell_type": "markdown",
   "id": "e777352a",
   "metadata": {},
   "source": [
    "Both the accuracy and the f1-score look good. "
   ]
  },
  {
   "cell_type": "markdown",
   "id": "96f666fc",
   "metadata": {},
   "source": [
    "**4. The ROC curve**\n",
    "\n",
    "It plots the True Positive Rate (TPR), or sensitivity, against the False Positive Rate (FPR) across different threshold values for the classifier.\n",
    "\n",
    "Different points on the ROC curve represent different thresholds used by the classifier to decide between positive and negative classes. As the threshold changes, so do the TPR and FPR.\n",
    "\n",
    "Performance Assessment:\n",
    "\n",
    "- Ideal Classifier: The best performance is represented by a point at the top-left corner of the plot (TPR=1, FPR=0), meaning perfect sensitivity with zero false positives.\n",
    "- Random Guessing: A 45-degree diagonal line represents a random guess, where TPR = FPR. This line is the baseline for comparison. Any classifier that performs below this line is worse than random.\n",
    "- AUC (Area Under the Curve): The ROC curve's area (AUC) quantifies the classifier's ability to distinguish between the two classes. An AUC of 1.0 indicates perfect classification, whereas an AUC of 0.5 indicates no better than random guessing."
   ]
  },
  {
   "cell_type": "code",
   "execution_count": 40,
   "id": "2adfb052",
   "metadata": {},
   "outputs": [],
   "source": [
    "from sklearn.metrics import roc_curve, roc_auc_score"
   ]
  },
  {
   "cell_type": "code",
   "execution_count": 41,
   "id": "9c3af31b",
   "metadata": {},
   "outputs": [],
   "source": [
    "model_rf.fit(X_train, y_train)\n",
    "y_prob = model_rf.predict_proba(X_test)[:,1]"
   ]
  },
  {
   "cell_type": "code",
   "execution_count": 42,
   "id": "7cc382f8",
   "metadata": {},
   "outputs": [],
   "source": [
    "false_positive_rate, true_positive_rate, threshold = roc_curve(y_test, y_prob)"
   ]
  },
  {
   "cell_type": "code",
   "execution_count": 43,
   "id": "264302fe",
   "metadata": {},
   "outputs": [
    {
     "data": {
      "image/png": "[encoded data removed]",
      "text/plain": [
       "<Figure size 432x288 with 1 Axes>"
      ]
     },
     "metadata": {
      "needs_background": "light"
     },
     "output_type": "display_data"
    }
   ],
   "source": [
    "plt.title('ROC')\n",
    "plt.plot(false_positive_rate, true_positive_rate)\n",
    "plt.plot([0, 1], ls = '--')\n",
    "plt.plot([0, 0], [1, 0], c = '.7'), plt.plot([1, 1], c = '.7')\n",
    "plt.ylabel('True positive rate')\n",
    "plt.xlabel(\"False positive rate\")\n",
    "plt.show()"
   ]
  },
  {
   "cell_type": "code",
   "execution_count": 47,
   "id": "ab3dca60",
   "metadata": {},
   "outputs": [
    {
     "name": "stdout",
     "output_type": "stream",
     "text": [
      "AUC (Area Under the Curve) score: 0.78\n"
     ]
    }
   ],
   "source": [
    "print(f'AUC (Area Under the Curve) score: {roc_auc_score(y_test, y_prob):.2f}')"
   ]
  },
  {
   "cell_type": "markdown",
   "id": "4a541032",
   "metadata": {},
   "source": [
    "**5. Y-scrambling**\n",
    "\n",
    "It's a validation technique used primarily in machine learning and cheminformatics (especially in QSAR, Quantitative Structure-Activity Relationship modeling) to test the robustness and significance of a predictive model. The goal is to determine if a model is truly learning meaningful relationships between inputs and outputs or if it is merely capturing noise in the data.\n",
    "\n",
    "In Y-scrambling, the response variable (Y)—the variable the model is trying to predict—is randomly shuffled, or \"scrambled.\" This scrambling removes any real association between the input variables (X) and the response variable (Y). The model is then re-trained on this scrambled dataset. Since the true relationship between X and Y has been broken, a well-validated model should now perform poorly, with predictive power near random."
   ]
  },
  {
   "cell_type": "code",
   "execution_count": 48,
   "id": "24f4fc58",
   "metadata": {},
   "outputs": [
    {
     "data": {
      "application/vnd.jupyter.widget-view+json": {
       "model_id": "f98b80f7258b42d797acdbe0eb007b4d",
       "version_major": 2,
       "version_minor": 0
      },
      "text/plain": [
       "  0%|          | 0/100 [00:00<?, ?it/s]"
      ]
     },
     "metadata": {},
     "output_type": "display_data"
    }
   ],
   "source": [
    "import random\n",
    "\n",
    "shuffled_auc = []\n",
    "y_train = np.array(y_train)\n",
    "\n",
    "from tqdm.notebook import trange\n",
    "for i in trange(100):\n",
    "    np.random.shuffle(y_train)\n",
    "    \n",
    "    model_rf.fit(X_train, y_train)\n",
    "    \n",
    "    pred = model_rf.predict(X_test)\n",
    "    shuffled_auc.append(accuracy_score(y_test,pred))"
   ]
  },
  {
   "cell_type": "code",
   "execution_count": 52,
   "id": "7db62883",
   "metadata": {},
   "outputs": [
    {
     "data": {
      "image/png": "[encoded data removed]",
      "text/plain": [
       "<Figure size 960x400 with 1 Axes>"
      ]
     },
     "metadata": {
      "needs_background": "light"
     },
     "output_type": "display_data"
    }
   ],
   "source": [
    "bins_list = np.linspace(start=0, stop=1, num=21)\n",
    "fig = plt.figure(figsize=(12, 5), dpi=80)\n",
    "n, bins, edges = plt.hist(shuffled_auc,\n",
    "                              bins=bins_list,\n",
    "                              ec=\"k\",\n",
    "                              color = \"dodgerblue\",\n",
    "                              alpha=0.8)\n",
    "plt.xticks(bins_list)\n",
    "plt.grid(axis = \"both\", alpha = 0.6)\n",
    "for a,b in zip(bins,n):\n",
    "    plt.text(a+0.012, b+0.2, str(int(b)))\n",
    "plt.title(\"Histogram of accuracy after Y-scrambling\")\n",
    "plt.show()"
   ]
  },
  {
   "cell_type": "markdown",
   "id": "371ae17d",
   "metadata": {},
   "source": [
    "We can see that the accuracies after Y-scrambling are mostly around 50-55%, which is good because it means that the re-trained models does not see any dependencies (as they have been removed) and is as good as a coin toss."
   ]
  },
  {
   "cell_type": "code",
   "execution_count": null,
   "id": "bd9d89d1",
   "metadata": {},
   "outputs": [],
   "source": []
  }
 ],
 "metadata": {
  "kernelspec": {
   "display_name": "Python 3 (ipykernel)",
   "language": "python",
   "name": "python3"
  },
  "language_info": {
   "codemirror_mode": {
    "name": "ipython",
    "version": 3
   },
   "file_extension": ".py",
   "mimetype": "text/x-python",
   "name": "python",
   "nbconvert_exporter": "python",
   "pygments_lexer": "ipython3",
   "version": "3.9.12"
  }
 },
 "nbformat": 4,
 "nbformat_minor": 5
}
